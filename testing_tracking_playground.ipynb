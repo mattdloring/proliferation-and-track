{
 "cells": [
  {
   "cell_type": "code",
   "execution_count": 1,
   "id": "cedb2573",
   "metadata": {},
   "outputs": [],
   "source": [
    "%load_ext autoreload"
   ]
  },
  {
   "cell_type": "code",
   "execution_count": 2,
   "id": "ae7822ce",
   "metadata": {},
   "outputs": [],
   "source": [
    "%autoreload\n",
    "import sys\n",
    "sys.path.append('/home/loringm/proliferation-and-track')\n",
    "from tracking import find_match, calculate_diff_matrix, map_matches"
   ]
  },
  {
   "cell_type": "code",
   "execution_count": 3,
   "id": "cc68221a",
   "metadata": {},
   "outputs": [],
   "source": [
    "import numpy as np\n",
    "import matplotlib.pyplot as plt\n",
    "import networkx as nx\n",
    "\n",
    "from skimage.segmentation import relabel_sequential\n",
    "\n",
    "import itertools\n",
    "import cv2"
   ]
  },
  {
   "cell_type": "code",
   "execution_count": 4,
   "id": "9deb5811",
   "metadata": {},
   "outputs": [
    {
     "data": {
      "image/png": "[encoded data removed]",
      "text/plain": [
       "<Figure size 432x288 with 3 Axes>"
      ]
     },
     "metadata": {
      "needs_background": "light"
     },
     "output_type": "display_data"
    }
   ],
   "source": [
    "test1 = np.array([[0,1,2],[0,1,2]])\n",
    "test2 = np.array([[2,1,0],[2,1,0]])\n",
    "test3 = np.array([[4,1,0,3],[4,1,0,3]])\n",
    "\n",
    "fig, ax  = plt.subplots(1,3)\n",
    "\n",
    "ax[0].imshow(test1, vmin=0, vmax=4)\n",
    "ax[1].imshow(test2, vmin=0, vmax=4)\n",
    "ax[2].imshow(test3, vmin=0, vmax=4);"
   ]
  },
  {
   "cell_type": "code",
   "execution_count": 5,
   "id": "235416c3",
   "metadata": {},
   "outputs": [],
   "source": [
    "# def multilayered_graph(*subset_sizes):\n",
    "#     extents = nx.utils.pairwise(itertools.accumulate((0,) + subset_sizes))\n",
    "#     layers = [range(start, end) for start, end in extents]\n",
    "#     G = nx.Graph()\n",
    "#     for (i, layer) in enumerate(layers):\n",
    "#         G.add_nodes_from(layer, layer=i)\n",
    "#     for layer1, layer2 in nx.utils.pairwise(layers):\n",
    "#         G.add_edges_from(itertools.product(layer1, layer2))\n",
    "#     return G\n",
    "# def calculate_diff_matrix(img1, img2, init_val=50):\n",
    "    \n",
    "#     for image in [img1, img2]:\n",
    "#         try:\n",
    "#             assert(image.min()==0)\n",
    "#         except AssertionError:\n",
    "#             print('image must contain background class')\n",
    "        \n",
    "#     img1 = relabel_sequential(img1)[0]\n",
    "#     img2 = relabel_sequential(img2)[0]\n",
    "    \n",
    "#     unique_img1 = np.unique(img1)[1:]\n",
    "#     unique_img2 = np.unique(img2)[1:]\n",
    "    \n",
    "#     diff_matrix = np.ones([len(unique_img1), len(unique_img2)]) * init_val\n",
    "    \n",
    "#     for y in unique_img2:\n",
    "#         for x in unique_img1:\n",
    "#             diff = ((np.array(np.where(img1==x)) - np.array(np.where(img2==y)))**2).sum()\n",
    "#             diff_matrix[x,y] = diff\n",
    "#     return diff_matrix"
   ]
  },
  {
   "cell_type": "code",
   "execution_count": 6,
   "id": "5948ed87",
   "metadata": {},
   "outputs": [],
   "source": [
    "# def calculate_diff_matrix(img1, img2, init_val=50):\n",
    "#     for image in [img1, img2]:\n",
    "#         try:\n",
    "#             assert (image.min() == 0)\n",
    "#         except AssertionError:\n",
    "#             print('image must contain background class')\n",
    "\n",
    "#     img1 = np.int32(img1)\n",
    "#     img2 = np.int32(img2)\n",
    "\n",
    "#     img1 = relabel_sequential(img1)[0]\n",
    "#     img2 = relabel_sequential(img2)[0]\n",
    "\n",
    "#     unique_img1 = np.unique(img1)\n",
    "#     unique_img2 = np.unique(img2)\n",
    "\n",
    "#     diff_matrix = np.ones([len(unique_img1), len(unique_img2)]) * init_val\n",
    "\n",
    "#     for y in unique_img2:\n",
    "#         for x in unique_img1:\n",
    "#             # diff = ((np.array(np.where(img1 == x)) - np.array(np.where(img2 == y))) ** 2).sum() # previous working solution, doesnt handle arbirtrary array sizes\n",
    "#             diff = ((np.mean(np.where(img1 == x), axis=1) - np.mean(np.where(img2 == y), axis=1)) ** 2).sum()\n",
    "\n",
    "#             diff_matrix[x, y] = diff\n",
    "            \n",
    "#     # this is a bit janky but it handles shifting the background \n",
    "    \n",
    "#     ## actually this doesnt fix it\n",
    "#     ## this works for N x N+1 but not N+1 x N\n",
    "#     relatively_big_number = diff_matrix.max()**2\n",
    "#     diff_matrix[0,:] = relatively_big_number\n",
    "#     diff_matrix[:,0] = relatively_big_number\n",
    "\n",
    "#     return diff_matrix"
   ]
  },
  {
   "cell_type": "code",
   "execution_count": 7,
   "id": "5f8a7232",
   "metadata": {},
   "outputs": [],
   "source": [
    "# def find_match(input_image_1, input_image_2, plot=False):\n",
    "#     weight_mtx = calculate_diff_matrix(input_image_1, input_image_2)\n",
    "#     raw_weights = weight_mtx.ravel()\n",
    "    \n",
    "#     lays = [range(start, end) for start, end in nx.utils.pairwise([weight_mtx.shape])]\n",
    "\n",
    "#     G = nx.Graph()\n",
    "#     for (i, layer) in enumerate(lays):\n",
    "#         G.add_nodes_from(lays, layer=i)\n",
    "#     for layer1, layer2 in nx.utils.pairwise(lays):\n",
    "#         G.add_edges_from(itertools.product(layer1, layer2))\n",
    "\n",
    "#     G = multilayered_graph(weight_mtx.shape[0],weight_mtx.shape[1])\n",
    "\n",
    "#     edges = list(G.edges)\n",
    "#     weights = {edges[j] : raw_weights[j] for j in range(len(edges))}\n",
    "\n",
    "#     pos = nx.multipartite_layout(G, subset_key=\"layer\")\n",
    "\n",
    "#     nx.set_edge_attributes(G, values = weights, name = 'weight')\n",
    "\n",
    "#     labels = nx.get_edge_attributes(G,'weight')\n",
    "#     if plot:\n",
    "#         nx.draw_networkx_edge_labels(G,pos,edge_labels=labels, horizontalalignment='left', verticalalignment='top')\n",
    "#         nx.draw(G, pos,with_labels=True)\n",
    "#     return nx.algorithms.bipartite.matching.minimum_weight_full_matching(G)"
   ]
  },
  {
   "cell_type": "code",
   "execution_count": 8,
   "id": "0f5a0b16",
   "metadata": {},
   "outputs": [
    {
     "data": {
      "text/plain": [
       "array([[0, 1, 2],\n",
       "       [0, 1, 2]])"
      ]
     },
     "execution_count": 8,
     "metadata": {},
     "output_type": "execute_result"
    }
   ],
   "source": [
    "test1"
   ]
  },
  {
   "cell_type": "code",
   "execution_count": 9,
   "id": "297d03c3",
   "metadata": {},
   "outputs": [
    {
     "data": {
      "text/plain": [
       "array([0, 1, 2])"
      ]
     },
     "execution_count": 9,
     "metadata": {},
     "output_type": "execute_result"
    }
   ],
   "source": [
    "np.unique(test1)"
   ]
  },
  {
   "cell_type": "code",
   "execution_count": 10,
   "id": "a46e698e",
   "metadata": {
    "scrolled": false
   },
   "outputs": [
    {
     "data": {
      "text/plain": [
       "({0: 3, 1: 5, 2: 4, 3: 0, 5: 1, 4: 2}, 3)"
      ]
     },
     "execution_count": 10,
     "metadata": {},
     "output_type": "execute_result"
    }
   ],
   "source": [
    "find_match(test1,test2)"
   ]
  },
  {
   "cell_type": "code",
   "execution_count": 11,
   "id": "7b947d04",
   "metadata": {},
   "outputs": [
    {
     "data": {
      "image/png": "[encoded data removed]",
      "text/plain": [
       "<Figure size 432x288 with 2 Axes>"
      ]
     },
     "metadata": {
      "needs_background": "light"
     },
     "output_type": "display_data"
    }
   ],
   "source": [
    "t1 = np.zeros([512,512])\n",
    "t2 = np.zeros([512,512])\n",
    "\n",
    "cv2.circle(t1, (200,400), 15, color=1, thickness=-1)\n",
    "cv2.circle(t1, (300,350), 15, color=2, thickness=-1)\n",
    "\n",
    "cv2.circle(t2, (200,415), 15, color=2, thickness=-1)\n",
    "cv2.circle(t2, (300,350), 15, color=1, thickness=-1)\n",
    "\n",
    "fig, ax  = plt.subplots(1,2)\n",
    "\n",
    "ax[0].imshow(t1)\n",
    "ax[1].imshow(t2);"
   ]
  },
  {
   "cell_type": "code",
   "execution_count": 12,
   "id": "f61531d6",
   "metadata": {},
   "outputs": [
    {
     "data": {
      "text/plain": [
       "array([[8.25503001e+08, 8.25503001e+08, 8.25503001e+08],\n",
       "       [8.25503001e+08, 1.25000000e+04, 2.25000000e+02],\n",
       "       [8.25503001e+08, 0.00000000e+00, 1.42250000e+04]])"
      ]
     },
     "execution_count": 12,
     "metadata": {},
     "output_type": "execute_result"
    }
   ],
   "source": [
    "calculate_diff_matrix(t1,t2)"
   ]
  },
  {
   "cell_type": "code",
   "execution_count": 13,
   "id": "1cd55ac3",
   "metadata": {},
   "outputs": [
    {
     "data": {
      "text/plain": [
       "({0: 3, 1: 5, 2: 4, 3: 0, 5: 1, 4: 2}, 3)"
      ]
     },
     "execution_count": 13,
     "metadata": {},
     "output_type": "execute_result"
    }
   ],
   "source": [
    "find_match(t2,t1)"
   ]
  },
  {
   "cell_type": "code",
   "execution_count": 14,
   "id": "6fa8b2ff",
   "metadata": {},
   "outputs": [
    {
     "data": {
      "text/plain": [
       "({0: 3, 1: 5, 2: 4, 3: 0, 5: 1, 4: 2}, 3)"
      ]
     },
     "execution_count": 14,
     "metadata": {},
     "output_type": "execute_result"
    },
    {
     "data": {
      "image/png": "[encoded data removed]",
      "text/plain": [
       "<Figure size 432x288 with 1 Axes>"
      ]
     },
     "metadata": {},
     "output_type": "display_data"
    }
   ],
   "source": [
    "find_match(t1,t2, plot=True)"
   ]
  },
  {
   "cell_type": "code",
   "execution_count": 15,
   "id": "6430a753",
   "metadata": {},
   "outputs": [],
   "source": [
    "# def map_matches(mapped_array, match_dictionary):\n",
    "#     ### adapted from https://stackoverflow.com/questions/16992713/translate-every-element-in-numpy-array-according-to-key ###\n",
    "#     u,inv = np.unique(mapped_array,return_inverse = True)\n",
    "#     return np.array([match_dictionary[x]-len(match_dictionary)//2 for x in u])[inv].reshape(mapped_array.shape)"
   ]
  },
  {
   "cell_type": "code",
   "execution_count": 16,
   "id": "a015e4f0",
   "metadata": {},
   "outputs": [
    {
     "data": {
      "image/png": "[encoded data removed]",
      "text/plain": [
       "<Figure size 864x576 with 3 Axes>"
      ]
     },
     "metadata": {
      "needs_background": "light"
     },
     "output_type": "display_data"
    }
   ],
   "source": [
    "fig, ax  = plt.subplots(1,3, figsize=(12,8))\n",
    "\n",
    "ax[0].imshow(t1)\n",
    "ax[0].set_title('t0')\n",
    "ax[1].imshow(t2)\n",
    "ax[1].set_title('t1')\n",
    "\n",
    "\n",
    "match_dic, layer_1_depth = find_match(t1,t2)\n",
    "pred_img = map_matches(t2, match_dic, layer_1_depth)\n",
    "ax[2].imshow(pred_img)\n",
    "ax[2].set_title('PREDICTION');"
   ]
  },
  {
   "cell_type": "code",
   "execution_count": 22,
   "id": "1e0654fe",
   "metadata": {},
   "outputs": [
    {
     "data": {
      "image/png": "[encoded data removed]",
      "text/plain": [
       "<Figure size 864x576 with 3 Axes>"
      ]
     },
     "metadata": {
      "needs_background": "light"
     },
     "output_type": "display_data"
    }
   ],
   "source": [
    "new_test1 = np.zeros([512,512])\n",
    "new_test2 = np.zeros([512,512])\n",
    "\n",
    "n = 0\n",
    "m = 4\n",
    "n_circles = 5\n",
    "for i in range(n_circles):\n",
    "    x,y = np.random.randint(0,512, 2)\n",
    "    cv2.circle(new_test1, (x,y), 15, color=n, thickness=-1)\n",
    "    \n",
    "    _x,_y = np.random.randint(-25,25, 2)\n",
    "    cv2.circle(new_test2, (x+_x,y+_y), 15, color=m, thickness=-1)\n",
    "    n += 1\n",
    "    m -= 1\n",
    "\n",
    "\n",
    "fig, ax  = plt.subplots(1,3, figsize=(12,8))\n",
    "\n",
    "ax[0].imshow(new_test1, vmin=0, vmax=5)\n",
    "ax[0].set_title('t0')\n",
    "ax[1].imshow(new_test2, vmin=0, vmax=5)\n",
    "ax[1].set_title('t1')\n",
    "\n",
    "\n",
    "match_dic, layer1shape = find_match(new_test1,new_test2)\n",
    "pred_img = map_matches(new_test2, match_dic, layer1shape)\n",
    "ax[2].imshow(pred_img, vmin=0, vmax=5)\n",
    "ax[2].set_title('PREDICTION');"
   ]
  },
  {
   "cell_type": "code",
   "execution_count": 18,
   "id": "1769ae4f",
   "metadata": {},
   "outputs": [
    {
     "data": {
      "image/png": "[encoded data removed]",
      "text/plain": [
       "<Figure size 864x576 with 3 Axes>"
      ]
     },
     "metadata": {
      "needs_background": "light"
     },
     "output_type": "display_data"
    }
   ],
   "source": [
    "t1 = np.zeros([512,512])\n",
    "t2 = np.zeros([512,512])\n",
    "\n",
    "cv2.circle(t1, (200,400), 15, color=1, thickness=-1)\n",
    "cv2.circle(t1, (300,350), 15, color=2, thickness=-1)\n",
    "cv2.circle(t1, (100,450), 15, color=3, thickness=-1)\n",
    "\n",
    "cv2.circle(t2, (200,415), 15, color=2, thickness=-1)\n",
    "cv2.circle(t2, (300,350), 15, color=1, thickness=-1)\n",
    "\n",
    "fig, ax  = plt.subplots(1,3, figsize=(12,8))\n",
    "\n",
    "ax[0].imshow(t1, vmin=0, vmax=4)\n",
    "ax[0].set_title('t0')\n",
    "ax[1].imshow(t2, vmin=0, vmax=4)\n",
    "ax[1].set_title('t1')\n",
    "\n",
    "\n",
    "match_dic, l1shape = find_match(t2,t1)\n",
    "pred_img = map_matches(t2, match_dic, l1shape)\n",
    "ax[2].imshow(pred_img, vmin=0, vmax=4)\n",
    "ax[2].set_title('PREDICTION');"
   ]
  },
  {
   "cell_type": "code",
   "execution_count": 19,
   "id": "e625c67d",
   "metadata": {},
   "outputs": [
    {
     "data": {
      "text/plain": [
       "array([[3.8799154e+09, 3.8799154e+09, 3.8799154e+09, 3.8799154e+09],\n",
       "       [3.8799154e+09, 1.2500000e+04, 0.0000000e+00, 5.0000000e+04],\n",
       "       [3.8799154e+09, 2.2500000e+02, 1.4225000e+04, 1.1225000e+04]])"
      ]
     },
     "metadata": {},
     "output_type": "display_data"
    },
    {
     "data": {
      "text/plain": [
       "({0: 3, 1: 5, 2: 4, 3: 0, 5: 1, 4: 2}, 3)"
      ]
     },
     "metadata": {},
     "output_type": "display_data"
    }
   ],
   "source": [
    "display(calculate_diff_matrix(t2,t1))\n",
    "\n",
    "display(find_match(t2,t1))"
   ]
  },
  {
   "cell_type": "code",
   "execution_count": 20,
   "id": "4b746d25",
   "metadata": {},
   "outputs": [
    {
     "data": {
      "text/plain": [
       "array([[3.8799154e+09, 3.8799154e+09, 3.8799154e+09],\n",
       "       [3.8799154e+09, 1.2500000e+04, 2.2500000e+02],\n",
       "       [3.8799154e+09, 0.0000000e+00, 1.4225000e+04],\n",
       "       [3.8799154e+09, 5.0000000e+04, 1.1225000e+04]])"
      ]
     },
     "metadata": {},
     "output_type": "display_data"
    },
    {
     "data": {
      "text/plain": [
       "({0: 4, 1: 6, 2: 5, 4: 0, 6: 1, 5: 2}, 4)"
      ]
     },
     "metadata": {},
     "output_type": "display_data"
    }
   ],
   "source": [
    "display(calculate_diff_matrix(t1,t2))\n",
    "\n",
    "display(find_match(t1,t2))"
   ]
  },
  {
   "cell_type": "code",
   "execution_count": 21,
   "id": "45ca5905",
   "metadata": {},
   "outputs": [
    {
     "data": {
      "image/png": "[encoded data removed]",
      "text/plain": [
       "<Figure size 864x576 with 3 Axes>"
      ]
     },
     "metadata": {
      "needs_background": "light"
     },
     "output_type": "display_data"
    }
   ],
   "source": [
    "t1 = np.zeros([512,512])\n",
    "t2 = np.zeros([512,512])\n",
    "\n",
    "cv2.circle(t1, (200,400), 15, color=1, thickness=-1)\n",
    "cv2.circle(t1, (300,350), 15, color=2, thickness=-1)\n",
    "cv2.circle(t1, (100,450), 15, color=3, thickness=-1)\n",
    "\n",
    "cv2.circle(t2, (200,415), 15, color=2, thickness=-1)\n",
    "cv2.circle(t2, (300,350), 15, color=1, thickness=-1)\n",
    "\n",
    "fig, ax  = plt.subplots(1,3, figsize=(12,8))\n",
    "\n",
    "ax[0].imshow(t1, vmin=0, vmax=4)\n",
    "ax[0].set_title('t0')\n",
    "ax[1].imshow(t2, vmin=0, vmax=4)\n",
    "ax[1].set_title('t1')\n",
    "\n",
    "\n",
    "match_dic, l1_shape = find_match(t1,t2)\n",
    "pred_img = map_matches(t2, match_dic, l1_shape)\n",
    "ax[2].imshow(pred_img, vmin=0, vmax=4)\n",
    "ax[2].set_title('PREDICTION');"
   ]
  },
  {
   "cell_type": "code",
   "execution_count": null,
   "id": "a99f7372",
   "metadata": {},
   "outputs": [],
   "source": []
  },
  {
   "cell_type": "code",
   "execution_count": null,
   "id": "f94215a2",
   "metadata": {},
   "outputs": [],
   "source": []
  },
  {
   "cell_type": "code",
   "execution_count": null,
   "id": "2ac270b1",
   "metadata": {},
   "outputs": [],
   "source": []
  },
  {
   "cell_type": "code",
   "execution_count": null,
   "id": "366a88ef",
   "metadata": {},
   "outputs": [],
   "source": []
  }
 ],
 "metadata": {
  "kernelspec": {
   "display_name": "Python 3 (ipykernel)",
   "language": "python",
   "name": "python3"
  },
  "language_info": {
   "codemirror_mode": {
    "name": "ipython",
    "version": 3
   },
   "file_extension": ".py",
   "mimetype": "text/x-python",
   "name": "python",
   "nbconvert_exporter": "python",
   "pygments_lexer": "ipython3",
   "version": "3.7.10"
  }
 },
 "nbformat": 4,
 "nbformat_minor": 5
}
