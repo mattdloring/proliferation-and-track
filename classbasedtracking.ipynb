{
 "cells": [
  {
   "cell_type": "markdown",
   "id": "be961821",
   "metadata": {},
   "source": [
    "### spicy imports"
   ]
  },
  {
   "cell_type": "code",
   "execution_count": 1,
   "id": "665d3b77",
   "metadata": {},
   "outputs": [],
   "source": [
    "%load_ext autoreload"
   ]
  },
  {
   "cell_type": "code",
   "execution_count": 2,
   "id": "ae3f0454",
   "metadata": {},
   "outputs": [],
   "source": [
    "%autoreload\n",
    "import sys\n",
    "sys.path.append('/home/loringm/proliferation-and-track')\n",
    "from working.schoolyard import Tracker, clean_match_dictionary\n",
    "from working.cells import Cell, Cells, new_cell"
   ]
  },
  {
   "cell_type": "markdown",
   "id": "c2de2207",
   "metadata": {},
   "source": [
    "### generic imports"
   ]
  },
  {
   "cell_type": "code",
   "execution_count": 3,
   "id": "ae0eb162",
   "metadata": {},
   "outputs": [],
   "source": [
    "import numpy as np\n",
    "import networkx as nx\n",
    "import matplotlib.pyplot as plt\n",
    "\n",
    "import zarr\n",
    "import logging\n",
    "\n",
    "from scipy import ndimage"
   ]
  },
  {
   "cell_type": "code",
   "execution_count": 4,
   "id": "ade53a9c",
   "metadata": {},
   "outputs": [],
   "source": [
    "logging.basicConfig(level=logging.INFO)"
   ]
  },
  {
   "cell_type": "markdown",
   "id": "77fc4573",
   "metadata": {},
   "source": [
    "#### load data"
   ]
  },
  {
   "cell_type": "code",
   "execution_count": 5,
   "id": "6620407d",
   "metadata": {},
   "outputs": [],
   "source": [
    "zarr_dir = '/home/loringm/Downloads/SIMULATED_DATASET/01/data.n5'\n",
    "data = zarr.open(zarr_dir)"
   ]
  },
  {
   "cell_type": "markdown",
   "id": "0969f5d2",
   "metadata": {},
   "source": [
    "#### grab a subset of data"
   ]
  },
  {
   "cell_type": "code",
   "execution_count": 6,
   "id": "2b2e5314",
   "metadata": {},
   "outputs": [],
   "source": [
    "imgs = data['GT'][:, 30, 144:400, 144:400]"
   ]
  },
  {
   "cell_type": "markdown",
   "id": "27fd9eaa",
   "metadata": {},
   "source": [
    "#### convert perfect ground truth to binary, then assign val to each segmented region\n",
    "#### similar to getting a nice semantic segmentation and then assigning vals "
   ]
  },
  {
   "cell_type": "code",
   "execution_count": 7,
   "id": "559f40dd",
   "metadata": {},
   "outputs": [],
   "source": [
    "bnr_images = [np.array(img > 0, dtype=np.int8) for img in imgs]\n",
    "labeled_images = [ndimage.label(bnrimage)[0] for bnrimage in bnr_images]"
   ]
  },
  {
   "cell_type": "markdown",
   "id": "0a1550df",
   "metadata": {},
   "source": [
    "## EVERYHING ONWARDS IS THE FORBIDDEN ZONE"
   ]
  },
  {
   "cell_type": "code",
   "execution_count": 8,
   "id": "c9be3c6c",
   "metadata": {},
   "outputs": [
    {
     "data": {
      "text/plain": [
       "'\\nuntested on z -- might work, mostly will be the cell position calculations, pray to the numpys\\n\\n'"
      ]
     },
     "execution_count": 8,
     "metadata": {},
     "output_type": "execute_result"
    }
   ],
   "source": [
    "'''\n",
    "untested on z -- might work, mostly will be the cell position calculations, pray to the numpys\n",
    "\n",
    "'''"
   ]
  },
  {
   "cell_type": "code",
   "execution_count": null,
   "id": "4e8f3722",
   "metadata": {},
   "outputs": [],
   "source": [
    "### currently this workflow works for everything except the updating to be current stage!\n",
    "### this is currently removing cells if they did not have a match in frame n-1 \n",
    "\n",
    "### We want to remove cells only that were in frame n-1 AND not current\n",
    "### if it was in n-1 and matched to current, then we update\n"
   ]
  },
  {
   "cell_type": "code",
   "execution_count": 9,
   "id": "6db48187",
   "metadata": {
    "scrolled": true
   },
   "outputs": [
    {
     "name": "stderr",
     "output_type": "stream",
     "text": [
      "INFO:root:creating 0 neurons on frame 0\n",
      "INFO:root:0 neurons after round 0\n",
      "INFO:root:creating 2 on frame 1\n",
      "INFO:root:created 0 matches from 1 to 0\n",
      "INFO:root:removing neuron 1 from active on 1\n",
      "INFO:root:removing neuron 2 from active on 1\n",
      "INFO:root:0 neurons after round 1\n",
      "INFO:root:creating 1 on frame 2\n",
      "INFO:root:created 1 matches from 2 to 1\n",
      "INFO:root:removing neuron 1 from active on 2\n",
      "INFO:root:0 neurons after round 2\n",
      "INFO:root:creating 1 neurons on frame 3\n",
      "INFO:root:created 1 matches from 3 to 2\n"
     ]
    },
    {
     "name": "stdout",
     "output_type": "stream",
     "text": [
      "1 0\n"
     ]
    }
   ],
   "source": [
    "n = 0\n",
    "\n",
    "\n",
    "cells = Cells()\n",
    "runningCells = {}\n",
    "\n",
    "if n == 0:\n",
    "    unique_neurons = np.unique(labeled_images[n])[1:]\n",
    "    logging.info(f'creating {len(unique_neurons)} neurons on frame {n}')\n",
    "    for neuron in unique_neurons:\n",
    "        # get x,y position of cell\n",
    "        cellpos = np.mean(np.where(labeled_images[n] == neuron), axis=1)\n",
    "        # make a new cell\n",
    "        newcell = new_cell(neuron, cellpos)\n",
    "        # put cell in with his friends\n",
    "        # the global friendslist\n",
    "        cells.add_cell(newcell)\n",
    "        # the current group of friends\n",
    "        runningCells[neuron] = newcell.idx\n",
    "        \n",
    "        \n",
    "logging.info(f'{len(runningCells)} neurons after round {n}')\n",
    "\n",
    "n += 1\n",
    "## AT SOME POINT ALL THIS WILL BE IN FOR'D LOOPYLOOPS\n",
    "\n",
    "if n==1:\n",
    "    ## DO WE HAVE ENOUGH CELLIES?\n",
    "    unique_neurons = np.unique(labeled_images[n])[1:]\n",
    "    if len(unique_neurons) > len(runningCells):\n",
    "        current_numb = len(runningCells)\n",
    "        new_numb = len(unique_neurons)\n",
    "        diff = new_numb - current_numb\n",
    "        logging.info(f'creating {diff} on frame {n}')\n",
    "\n",
    "        for i in range(diff):\n",
    "            loc_id = i + current_numb + 1\n",
    "            \n",
    "            cellpos = np.mean(np.where(labeled_images[n] == loc_id), axis=1)\n",
    "            \n",
    "            newcell = new_cell(loc_id, cellpos)\n",
    "            \n",
    "            cells.add_cell(newcell)\n",
    "            runningCells[loc_id] = newcell.idx\n",
    "\n",
    "    \n",
    "    ## LETS PLAY MATCHMAKERRR\n",
    "    tracker = Tracker(labeled_images[n-1], labeled_images[n])\n",
    "    \n",
    "    network, matches = tracker.create_network()\n",
    "    previous_depth = tracker.layer1_depth\n",
    "    \n",
    "    cleaned_matches = clean_match_dictionary(matches, previous_depth)\n",
    "    logging.info(f'created {len(cleaned_matches)//2} matches from {n} to {n-1}')\n",
    "    \n",
    "    new_running_matches = {}\n",
    "    for neuron in runningCells.copy():\n",
    "        if neuron not in cleaned_matches:\n",
    "            # HECK WITH THIS CELL\n",
    "            logging.info(f'removing neuron {neuron} from active on {n}')\n",
    "            # del runningCells[neuron] \n",
    "        else:\n",
    "            # UPDATE THE CELL TO BE CURRENT\n",
    "            updatedcell = cells.get_cell(runningCells[neuron])\n",
    "            updatedcell.cost = network.edges[(neuron, cleaned_matches[neuron])]['weight']\n",
    "            updatedcell.curr_id = cleaned_matches[neuron] - previous_depth\n",
    "            updatedcell.position = np.mean(np.where(labeled_images[n] == updatedcell.curr_id), axis=1)\n",
    "            new_running_matches[neuron] = updatedcell.idx\n",
    "    runningCells = new_running_matches\n",
    "logging.info(f'{len(runningCells)} neurons after round {n}')    \n",
    "n+=1\n",
    "if n==2:\n",
    "    ## DO WE HAVE ENOUGH CELLIES?\n",
    "    unique_neurons = np.unique(labeled_images[n])[1:]\n",
    "    if len(unique_neurons) > len(runningCells):\n",
    "        current_numb = len(runningCells)\n",
    "        new_numb = len(unique_neurons)\n",
    "        diff = new_numb - current_numb\n",
    "        logging.info(f'creating {diff} on frame {n}')\n",
    "\n",
    "        for i in range(diff):\n",
    "            loc_id = i + current_numb + 1\n",
    "            \n",
    "            cellpos = np.mean(np.where(labeled_images[n] == loc_id), axis=1)\n",
    "            \n",
    "            newcell = new_cell(loc_id, cellpos)\n",
    "            \n",
    "            cells.add_cell(newcell)\n",
    "            runningCells[loc_id] = newcell.idx\n",
    "            \n",
    "    ## LETS PLAY MATCHMAKERRR\n",
    "    tracker = Tracker(labeled_images[n-1], labeled_images[n])\n",
    "    \n",
    "    network, matches = tracker.create_network()\n",
    "    previous_depth = tracker.layer1_depth\n",
    "    \n",
    "    cleaned_matches = clean_match_dictionary(matches, previous_depth)\n",
    "    logging.info(f'created {len(cleaned_matches)//2} matches from {n} to {n-1}')\n",
    "    \n",
    "    new_running_matches = {}\n",
    "    for neuron in runningCells.copy():\n",
    "        if neuron not in cleaned_matches:\n",
    "            # HECK WITH THIS CELL\n",
    "            logging.info(f'removing neuron {neuron} from active on {n}')\n",
    "            # del runningCells[neuron] \n",
    "        else:\n",
    "            # UPDATE THE CELL TO BE CURRENT\n",
    "            print('updating cell')\n",
    "            updatedcell = cells.get_cell(runningCells[neuron])\n",
    "            updatedcell.cost = network.edges[(neuron, cleaned_matches[neuron])]['weight']\n",
    "            updatedcell.curr_id = cleaned_matches[neuron] - previous_depth\n",
    "            updatedcell.position = np.mean(np.where(labeled_images[n] == updatedcell.curr_id), axis=1)\n",
    "            print('meow')\n",
    "            new_running_matches[neuron] = updatedcell.idx\n",
    "            print(new_running_matches)\n",
    "    runningCells = new_running_matches\n",
    "logging.info(f'{len(runningCells)} neurons after round {n}')   \n",
    "n+=1\n",
    "if n==3:\n",
    "    ## DO WE HAVE ENOUGH CELLIES?\n",
    "    unique_neurons = np.unique(labeled_images[n])[1:]\n",
    "    print(len(unique_neurons), len(runningCells))\n",
    "    if len(unique_neurons) > len(runningCells):\n",
    "        current_numb = len(runningCells)\n",
    "        new_numb = len(unique_neurons)\n",
    "        diff = new_numb - current_numb\n",
    "        logging.info(f'creating {diff} neurons on frame {n}')\n",
    "\n",
    "        for i in range(diff):\n",
    "            loc_id = i + current_numb + 1\n",
    "            \n",
    "            cellpos = np.mean(np.where(labeled_images[n] == loc_id), axis=1)\n",
    "            \n",
    "            newcell = new_cell(loc_id, cellpos)\n",
    "            \n",
    "            cells.add_cell(newcell)\n",
    "            runningCells[loc_id] = newcell.idx\n",
    "            \n",
    "    ## LETS PLAY MATCHMAKERRR\n",
    "    tracker = Tracker(labeled_images[n-1], labeled_images[n])\n",
    "    \n",
    "    network, matches = tracker.create_network()\n",
    "    previous_depth = tracker.layer1_depth\n",
    "    \n",
    "    cleaned_matches = clean_match_dictionary(matches, previous_depth)\n",
    "    logging.info(f'created {len(cleaned_matches)//2} matches from {n} to {n-1}')\n",
    "    \n",
    "    new_running_matches = {}\n",
    "    for neuron in runningCells.copy():\n",
    "        if neuron not in cleaned_matches:\n",
    "            # HECK WITH THIS CELL\n",
    "            logging.info(f'removing neuron {neuron} from active on {n}')\n",
    "            # del runningCells[neuron] \n",
    "        else:\n",
    "            # UPDATE THE CELL TO BE CURRENT\n",
    "            updatedcell = cells.get_cell(runningCells[neuron])\n",
    "            updatedcell.cost = network.edges[(neuron, cleaned_matches[neuron])]['weight']\n",
    "            updatedcell.curr_id = cleaned_matches[neuron] - previous_depth\n",
    "            updatedcell.position = np.mean(np.where(labeled_images[n] == updatedcell.curr_id), axis=1)\n",
    "            new_running_matches[neuron] = updatedcell.idx\n",
    "    runningCells = new_running_matches"
   ]
  },
  {
   "cell_type": "code",
   "execution_count": null,
   "id": "8a0c7515",
   "metadata": {},
   "outputs": [],
   "source": [
    "'''\n",
    "\n",
    "Workflow Model:::\n",
    "\n",
    "\n",
    "tracker = Tracker()\n",
    "all_cells = Cells()\n",
    "\n",
    "full_network = Network() ## TOTALLY UNIMPLEMENTED\n",
    "\n",
    "for frame in all_frames:\n",
    "    \n",
    "    neurons, network, matches = tracker.process(frame[n], frame[n-1])\n",
    "    \n",
    "    all_cells.update(neurons, matches)\n",
    "    full_network.update(network)\n",
    "        \n",
    "'''"
   ]
  },
  {
   "cell_type": "code",
   "execution_count": null,
   "id": "de1323b0",
   "metadata": {},
   "outputs": [],
   "source": [
    "v    tracker = Tracker(labeled_images[n-1], labeled_images[n])\n",
    "    \n",
    "    network, matches = tracker.create_network()\n",
    "    previous_depth = tracker.layer1_depth\n",
    "    \n",
    "    cleaned_matches = clean_match_dictionary(matches, previous_depth)"
   ]
  },
  {
   "cell_type": "code",
   "execution_count": null,
   "id": "8e71c3c2",
   "metadata": {},
   "outputs": [],
   "source": []
  },
  {
   "cell_type": "code",
   "execution_count": 10,
   "id": "27b3c8d4",
   "metadata": {},
   "outputs": [
    {
     "data": {
      "text/plain": [
       "{1: UUID('5a9a007d-4417-4d91-a085-bdeb973c6e4c')}"
      ]
     },
     "execution_count": 10,
     "metadata": {},
     "output_type": "execute_result"
    }
   ],
   "source": [
    "new_running_matches"
   ]
  },
  {
   "cell_type": "code",
   "execution_count": 11,
   "id": "256a0b96",
   "metadata": {
    "scrolled": true
   },
   "outputs": [
    {
     "data": {
      "text/plain": [
       "array([1], dtype=int32)"
      ]
     },
     "execution_count": 11,
     "metadata": {},
     "output_type": "execute_result"
    }
   ],
   "source": [
    "np.unique(labeled_images[n])[1:]"
   ]
  },
  {
   "cell_type": "code",
   "execution_count": 12,
   "id": "b5444d9a",
   "metadata": {},
   "outputs": [
    {
     "data": {
      "text/plain": [
       "False"
      ]
     },
     "execution_count": 12,
     "metadata": {},
     "output_type": "execute_result"
    }
   ],
   "source": [
    "len(unique_neurons) > len(runningCells)"
   ]
  },
  {
   "cell_type": "code",
   "execution_count": 13,
   "id": "bba7f237",
   "metadata": {},
   "outputs": [
    {
     "data": {
      "text/plain": [
       "1"
      ]
     },
     "execution_count": 13,
     "metadata": {},
     "output_type": "execute_result"
    }
   ],
   "source": [
    "new_numb"
   ]
  },
  {
   "cell_type": "code",
   "execution_count": 14,
   "id": "5f0637af",
   "metadata": {},
   "outputs": [
    {
     "data": {
      "text/plain": [
       "[array([ 84.66666667, 219.54578755]), array([ 84.66666667, 219.54578755])]"
      ]
     },
     "execution_count": 14,
     "metadata": {},
     "output_type": "execute_result"
    }
   ],
   "source": [
    "updatedcell.positions"
   ]
  },
  {
   "cell_type": "code",
   "execution_count": 15,
   "id": "84c3bf78",
   "metadata": {},
   "outputs": [
    {
     "data": {
      "text/plain": [
       "{1: UUID('5a9a007d-4417-4d91-a085-bdeb973c6e4c')}"
      ]
     },
     "execution_count": 15,
     "metadata": {},
     "output_type": "execute_result"
    }
   ],
   "source": [
    "runningCells"
   ]
  },
  {
   "cell_type": "code",
   "execution_count": 16,
   "id": "0cb71a51",
   "metadata": {},
   "outputs": [
    {
     "data": {
      "image/png": "[encoded data removed]",
      "text/plain": [
       "<Figure size 432x288 with 1 Axes>"
      ]
     },
     "metadata": {},
     "output_type": "display_data"
    }
   ],
   "source": [
    "pos = nx.multipartite_layout(network, subset_key=\"layer\")\n",
    "nx.draw(network, pos)"
   ]
  },
  {
   "cell_type": "code",
   "execution_count": null,
   "id": "b890bbfb",
   "metadata": {},
   "outputs": [],
   "source": []
  }
 ],
 "metadata": {
  "kernelspec": {
   "display_name": "Python 3 (ipykernel)",
   "language": "python",
   "name": "python3"
  },
  "language_info": {
   "codemirror_mode": {
    "name": "ipython",
    "version": 3
   },
   "file_extension": ".py",
   "mimetype": "text/x-python",
   "name": "python",
   "nbconvert_exporter": "python",
   "pygments_lexer": "ipython3",
   "version": "3.7.10"
  }
 },
 "nbformat": 4,
 "nbformat_minor": 5
}
